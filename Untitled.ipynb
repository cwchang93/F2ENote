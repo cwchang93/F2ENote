{
 "cells": [
  {
   "cell_type": "code",
   "execution_count": null,
   "metadata": {},
   "outputs": [],
   "source": [
    "const arr = []\n",
    "const nnArr2= [true,true, false,false]\n",
    "const nnArr = [];\n",
    "arr.map((ele,i,arr)=>{\n",
    "\tif (nnArr2[i]){\n",
    "  \t\tnnArr.push(arr(i)) \n",
    "  }\n",
    "})\n",
    "console.log(nnArr);"
   ]
  },
  {
   "cell_type": "code",
   "execution_count": null,
   "metadata": {},
   "outputs": [],
   "source": []
  }
 ],
 "metadata": {
  "kernelspec": {
   "display_name": "Javascript (Node.js)",
   "language": "javascript",
   "name": "javascript"
  }
 },
 "nbformat": 4,
 "nbformat_minor": 2
}
